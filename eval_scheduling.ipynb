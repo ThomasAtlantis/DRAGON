{
 "cells": [
  {
   "cell_type": "code",
   "execution_count": 1,
   "metadata": {},
   "outputs": [],
   "source": [
    "from matplotlib import patches\n",
    "import matplotlib.pyplot as plt\n",
    "import numpy as np\n",
    "\n",
    "\n",
    "def visualize(config, world):\n",
    "    plt.figure(figsize=(15, 5))\n",
    "    colors = {\n",
    "        \"Decode\": [\n",
    "            '#FFF2CC', '#E2F0D9'\n",
    "        ],\n",
    "        \"TransDraft\": '#DBE3F3',\n",
    "        \"TransTarget\": '#e3b4b8'\n",
    "    }\n",
    "    draft_total = [0, 0]\n",
    "    target_total = [0, 0]\n",
    "    for record in world.records:\n",
    "        if record['title'] == \"DraftToken\":\n",
    "            draft_total[record['src_id']] += 1\n",
    "        elif record['title'] == \"TargetToken\":\n",
    "            target_total[record['src_id']] += 1\n",
    "    center = [0, (draft_total[1] + target_total[1] + 1) * 0.1] \n",
    "\n",
    "    n_draft_token = [0, 0]\n",
    "    n_target_token = [0, 0]\n",
    "    for record in world.records:\n",
    "        ax = plt.gca()\n",
    "        if record['title'].startswith(\"Decode\"):\n",
    "            ax.add_patch(patches.Rectangle(\n",
    "                xy=(record['beg_time'], center[record['meta']['rank']]), width=record['duration'], height=0.1, \n",
    "                edgecolor='black', facecolor=colors[\"Decode\"][record['meta']['rank']], linewidth=0.5, zorder=2))\n",
    "        elif record['title'] == \"DraftToken\":\n",
    "            n_draft_token[record['src_id']] += 0.1\n",
    "            ax.add_patch(patches.Rectangle(\n",
    "                xy=(record['beg_time'], center[record['src_id']] - n_draft_token[record['src_id']]), width=record['duration'], height=0.1, \n",
    "                edgecolor='black', facecolor=colors[\"TransDraft\"], linewidth=0.5, zorder=2))\n",
    "        elif record['title'] == \"TargetToken\":\n",
    "            n_target_token[record['src_id']] += 0.1\n",
    "            ax.add_patch(patches.Rectangle(\n",
    "                xy=(record['beg_time'], center[record['src_id']] - draft_total[record['src_id']] * 0.1 - n_target_token[record['src_id']]), width=record['duration'], height=0.1, \n",
    "                edgecolor='black', facecolor=colors[\"TransTarget\"], linewidth=0.5, zorder=2))\n",
    "    plt.xlabel('Time (s)')\n",
    "    plt.ylim(center[0] - (draft_total[0] + target_total[0]) * 0.1, center[1] + 0.1)\n",
    "    # x_max = max([patch.get_x() + patch.get_width() for patch in ax.patches])\n",
    "    plt.xlim(0, world.wall_time)\n",
    "    plt.xticks(np.arange(0, world.wall_time, 0.5))\n",
    "    plt.yticks([center[0] + 0.05, center[1] + 0.05], ['Cloud/Decode', 'Device/Decode'])\n",
    "    plt.title(config.method)\n",
    "    plt.grid(zorder=1, alpha=0.5)\n",
    "    plt.show()"
   ]
  },
  {
   "cell_type": "code",
   "execution_count": 2,
   "metadata": {},
   "outputs": [],
   "source": [
    "from experiments.Scheduling.eval import Config, EmuWorld, EmuCloud, EmuDevice"
   ]
  },
  {
   "cell_type": "code",
   "execution_count": 3,
   "metadata": {},
   "outputs": [
    {
     "name": "stdout",
     "output_type": "stream",
     "text": [
      "[0, 3, 6, 9, 12, 15, 18, 21, 24, 27, 30, 33, 36, 39, 42, 45, 48, 51, 54, 57, 60, 63, 66, 69, 72, 75, 78, 81, 84, 87, 90, 93, 96, 99, 102, 105, 108, 111, 114, 117, 120, 123, 126, 129, 132, 135, 138, 141, 144, 147, 150, 153, 156, 159, 162, 165, 168, 171, 174, 177, 180, 183, 186, 189, 192, 195, 198, 201, 204, 207, 210, 213, 216, 219, 222, 225, 228, 231, 234, 237, 240, 243, 246, 249, 252, 255, 258, 261, 264, 267, 270, 273, 276, 279, 282, 285, 288, 291, 294]\n",
      "[0, 3, 6, 9, 12, 15, 18, 21, 24, 27, 30, 33, 36, 39, 42, 45, 48, 51, 54, 57, 60, 63, 66, 69, 72, 75, 78, 81, 84, 87, 90, 93, 96, 99, 102, 105, 108, 111, 114, 117, 120, 123, 126, 129, 132, 135, 138, 141, 144, 147, 150, 153, 156, 159, 162, 165, 168, 171, 174, 177, 180, 183, 186, 189, 192, 195, 198, 201, 204, 207, 210, 213, 216, 219, 222, 225, 228, 231, 234, 237, 240, 243, 246, 249, 252, 255, 258, 261, 264, 267, 270, 273, 276, 279, 282, 285, 288, 291, 294]\n",
      "28.02800000001127\n"
     ]
    }
   ],
   "source": [
    "config = Config()\n",
    "config.max_draft_tokens = 10\n",
    "config.max_new_tokens = 99\n",
    "world = EmuWorld(config, precision=1e-3)\n",
    "world.add_observers([EmuCloud(config), EmuDevice(config)])\n",
    "world.run_until(100)\n",
    "print(world.observers[0].target_tokens)\n",
    "print(world.observers[1].target_tokens)\n",
    "print(world.wall_time)\n",
    "# visualize(config, world)"
   ]
  },
  {
   "cell_type": "code",
   "execution_count": 4,
   "metadata": {},
   "outputs": [
    {
     "name": "stdout",
     "output_type": "stream",
     "text": [
      "[0, 3, 6, 9, 12, 15, 18, 21, 24, 27, 30, 33, 36, 39, 42, 45, 48, 51, 54, 57, 60, 63, 66, 69, 72, 75, 78, 81, 84, 87, 90, 93, 96, 99, 102, 105, 108, 111, 114, 117, 120, 123, 126, 129, 132, 135, 138, 141, 144, 147, 150, 153, 156, 159, 162, 165, 168, 171, 174, 177, 180, 183, 186, 189, 192, 195, 198, 201, 204, 207]\n",
      "[0, 3, 6, 9, 12, 15, 18, 21, 24, 27, 30, 33, 36, 39, 42, 45, 48, 51, 54, 57, 60, 63, 66, 69, 72, 75, 78, 81, 84, 87, 90, 93, 96, 99, 102, 105, 108, 111, 114, 117, 120, 123, 126, 129, 132, 135, 138, 141, 144, 147, 150, 153, 156, 159, 162, 165, 168, 171, 174, 177, 180, 183, 186, 189, 192, 195, 198, 201, 204, 207]\n",
      "100.00000000011343\n"
     ]
    }
   ],
   "source": [
    "config = Config()\n",
    "config.method = \"synchronized\"\n",
    "config.max_draft_tokens = 10\n",
    "config.max_new_tokens = 99\n",
    "world = EmuWorld(config, precision=1e-3)\n",
    "world.add_observers([EmuCloud(config), EmuDevice(config)])\n",
    "world.run_until(100)\n",
    "print(world.observers[0].target_tokens)\n",
    "print(world.observers[1].target_tokens)\n",
    "# visualize(config, world)\n",
    "print(world.wall_time)"
   ]
  },
  {
   "cell_type": "code",
   "execution_count": null,
   "metadata": {},
   "outputs": [],
   "source": []
  }
 ],
 "metadata": {
  "kernelspec": {
   "display_name": "Python 3",
   "language": "python",
   "name": "python3"
  },
  "language_info": {
   "codemirror_mode": {
    "name": "ipython",
    "version": 3
   },
   "file_extension": ".py",
   "mimetype": "text/x-python",
   "name": "python",
   "nbconvert_exporter": "python",
   "pygments_lexer": "ipython3",
   "version": "3.9.0"
  }
 },
 "nbformat": 4,
 "nbformat_minor": 2
}
